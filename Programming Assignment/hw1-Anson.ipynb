{
 "cells": [
  {
   "cell_type": "markdown",
   "metadata": {},
   "source": [
    "# Loading Data"
   ]
  },
  {
   "cell_type": "markdown",
   "metadata": {},
   "source": [
    "## Name : Maria Anson\n",
    "## NUID : 00231419"
   ]
  },
  {
   "cell_type": "code",
   "execution_count": 1,
   "metadata": {
    "collapsed": false,
    "jupyter": {
     "outputs_hidden": false
    }
   },
   "outputs": [],
   "source": [
    "# Importing the necessary libraries\n",
    "import numpy as np\n",
    "import matplotlib.pyplot as plt"
   ]
  },
  {
   "cell_type": "code",
   "execution_count": 2,
   "metadata": {
    "collapsed": false,
    "jupyter": {
     "outputs_hidden": false
    }
   },
   "outputs": [
    {
     "data": {
      "text/plain": [
       "array([[ 0.1 ,  0.65],\n",
       "       [ 0.5 ,  0.1 ],\n",
       "       [ 0.9 ,  0.35],\n",
       "       [-0.2 ,  0.17],\n",
       "       [-0.5 ,  0.42],\n",
       "       [ 1.5 ,  2.62]])"
      ]
     },
     "execution_count": 2,
     "metadata": {},
     "output_type": "execute_result"
    }
   ],
   "source": [
    "# The given dataset\n",
    "dataset = np.array([[0.10, 0.65], [0.50, 0.10], [0.90, 0.35], [-0.20, 0.17], [-0.5, 0.42], [1.50, 2.62]])\n",
    "dataset"
   ]
  },
  {
   "cell_type": "code",
   "execution_count": 3,
   "metadata": {
    "collapsed": false,
    "jupyter": {
     "outputs_hidden": false
    }
   },
   "outputs": [
    {
     "name": "stdout",
     "output_type": "stream",
     "text": [
      "Feature [[ 0.1]\n",
      " [ 0.5]\n",
      " [ 0.9]\n",
      " [-0.2]\n",
      " [-0.5]\n",
      " [ 1.5]]\n",
      "Target [[0.65]\n",
      " [0.1 ]\n",
      " [0.35]\n",
      " [0.17]\n",
      " [0.42]\n",
      " [2.62]]\n"
     ]
    }
   ],
   "source": [
    "# Splitting the dataset into feature x and target y\n",
    "x = dataset[:,0].reshape(-1,1)\n",
    "y = dataset[:,1].reshape(-1,1)\n",
    "\n",
    "print(\"Feature\",x)\n",
    "print(\"Target\",y)"
   ]
  },
  {
   "cell_type": "markdown",
   "metadata": {},
   "source": [
    "### Q8.1\n",
    "\n",
    "1. Write a python code that inputs the above data and outputs the optimal regression value (θ1∗, θ0∗), using the closed-form solution."
   ]
  },
  {
   "cell_type": "code",
   "execution_count": 4,
   "metadata": {
    "collapsed": false,
    "jupyter": {
     "outputs_hidden": false
    }
   },
   "outputs": [],
   "source": [
    "def closed_form(feature, target, pri=True):\n",
    "    # Adding constant for bias\n",
    "    feature = np.append(feature, np.ones((feature.shape[0],1)), axis=1)\n",
    "    # Closed form Solution\n",
    "    theta = np.dot(np.dot(np.linalg.inv(np.dot(feature.T, feature)), feature.T), target)\n",
    "    if pri:\n",
    "        print(\"The optimal parameters for theta1 and theta0 are\", theta)\n",
    "    \n",
    "    return theta"
   ]
  },
  {
   "cell_type": "code",
   "execution_count": 10,
   "metadata": {
    "collapsed": false,
    "jupyter": {
     "outputs_hidden": false
    }
   },
   "outputs": [
    {
     "data": {
      "text/plain": [
       "array([[0.90305437],\n",
       "       [0.37216249]])"
      ]
     },
     "execution_count": 10,
     "metadata": {},
     "output_type": "execute_result"
    }
   ],
   "source": [
    "closed_form(x,y, False)"
   ]
  },
  {
   "cell_type": "code",
   "execution_count": 6,
   "metadata": {},
   "outputs": [],
   "source": [
    "def predict(feature,theta):\n",
    "    # Adding a column of 1's to the feature matrix.\n",
    "    feature = np.append(feature, np.ones((feature.shape[0],1)), axis=1)\n",
    "    \n",
    "    # Calculating the dot product of the feature matrix and theta.\n",
    "    prediction = np.dot(feature, theta)\n",
    "    \n",
    "    return prediction"
   ]
  },
  {
   "cell_type": "markdown",
   "metadata": {},
   "source": [
    "### Q8.2\n",
    "\n",
    "2. Plot the data in 2D and plot the estimated line y = θ1∗x + θ0∗."
   ]
  },
  {
   "cell_type": "code",
   "execution_count": 7,
   "metadata": {
    "collapsed": false,
    "jupyter": {
     "outputs_hidden": false
    }
   },
   "outputs": [
    {
     "name": "stdout",
     "output_type": "stream",
     "text": [
      "The optimal parameters for theta1 and theta0 are [[0.90305437]\n",
      " [0.37216249]]\n",
      "Cost 2.220446049250313e-16\n"
     ]
    },
    {
     "data": {
      "image/png": "[encoded data removed]",
      "text/plain": [
       "<Figure size 432x288 with 1 Axes>"
      ]
     },
     "metadata": {
      "needs_background": "light"
     },
     "output_type": "display_data"
    }
   ],
   "source": [
    "def plot_points_with_regression_line(feature, target):\n",
    "    # Plotting the actual data points on the graph.\n",
    "    plt.scatter(feature, target, marker ='x')\n",
    "    plt.xlabel(\"Feature value\")\n",
    "    plt.ylabel(\"Target value\")\n",
    "    \n",
    "    # Finding the minimum and maximum values of the feature.\n",
    "    start = min(feature[:,0])\n",
    "    end = max(feature[:,0])\n",
    "    \n",
    "    # Finding the optimal values of theta for the given data.\n",
    "    theta = closed_form(feature, target)\n",
    "\n",
    "    # Creating an array of values from start to end with a step size of 0.1.\n",
    "    input_data = np.arange(start,end+1,.1)\n",
    "    \n",
    "    # The above code is reshaping the input data into a column vector and then using the predict function to predict the output.\n",
    "    predictions = predict(input_data.reshape(-1,1), theta)\n",
    "\n",
    "    # Plotting the regression line.\n",
    "    plt.plot(input_data, predictions, marker = 'o', color = 'red')\n",
    "    plt.xlim(start,end+1)\n",
    "    plt.ylim(0,3)\n",
    "    \n",
    "plot_points_with_regression_line(x,y)\n",
    "print(\"Cost\",np.sqrt(np.sum(y - predict(x, closed_form(x,y, False)))**2))"
   ]
  },
  {
   "cell_type": "markdown",
   "metadata": {},
   "source": [
    "### Q8.3\n",
    "\n",
    "3. Remove the last point, i.e., (1.50,2.62), from the data and repeat the previous part. Is the new\n",
    "estimated line close to the estimated line in the previous part? Provide a justification."
   ]
  },
  {
   "cell_type": "code",
   "execution_count": 8,
   "metadata": {
    "collapsed": false,
    "jupyter": {
     "outputs_hidden": false
    }
   },
   "outputs": [
    {
     "name": "stdout",
     "output_type": "stream",
     "text": [
      "The optimal parameters for theta1 and theta0 are [[-0.06850649]\n",
      " [ 0.34896104]]\n",
      "Cost 3.885780586188048e-16\n"
     ]
    },
    {
     "data": {
      "image/png": "[encoded data removed]",
      "text/plain": [
       "<Figure size 432x288 with 1 Axes>"
      ]
     },
     "metadata": {
      "needs_background": "light"
     },
     "output_type": "display_data"
    }
   ],
   "source": [
    "# Removing the entry of (1.50,2.62)\n",
    "modified_x = x[:-1,]\n",
    "modified_y = y[:-1,]\n",
    "\n",
    "plot_points_with_regression_line(modified_x, modified_y)\n",
    "print(\"Cost\",np.sqrt(np.sum(modified_y - predict(modified_x, closed_form(modified_x,modified_y,False)))**2))"
   ]
  },
  {
   "cell_type": "code",
   "execution_count": 9,
   "metadata": {},
   "outputs": [
    {
     "data": {
      "image/png": "[encoded data removed]",
      "text/plain": [
       "<Figure size 432x288 with 1 Axes>"
      ]
     },
     "metadata": {
      "needs_background": "light"
     },
     "output_type": "display_data"
    }
   ],
   "source": [
    "plt.scatter(x[:,0], y)\n",
    "plt.scatter(1.5,2.62, color='red')\n",
    "plt.show()"
   ]
  },
  {
   "cell_type": "markdown",
   "metadata": {},
   "source": [
    "No the new estimated line is completely different from the previously estimated best fit line. \n",
    "\n",
    "The reason being is the data point (1.5, 2.62) is an outlier as it lies far from the other value in terms of both y and x value and this can be visually seen in the plot above.\n",
    "\n",
    "Best Fit Line 1 : Since the point (1.5, 2.62) is used in the training, the best fit line shifted towards the outlier value because that's how our cost function is designed. High error value for outlier, so optimal solution will be a line passing between the outlier and inlier.\n",
    "\n",
    "Best Fit Line 2 : Since the outlier is removed and all the other points are inliers as we could see it from the plot, the optimal solution passes through most of the point that lies in the lower part of the graph"
   ]
  }
 ],
 "metadata": {
  "kernelspec": {
   "display_name": "Python 3 (ipykernel)",
   "language": "python",
   "name": "python3"
  },
  "language_info": {
   "codemirror_mode": {
    "name": "ipython",
    "version": 3
   },
   "file_extension": ".py",
   "mimetype": "text/x-python",
   "name": "python",
   "nbconvert_exporter": "python",
   "pygments_lexer": "ipython3",
   "version": "3.9.12"
  }
 },
 "nbformat": 4,
 "nbformat_minor": 4
}
