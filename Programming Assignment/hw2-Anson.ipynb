{
 "cells": [
  {
   "cell_type": "markdown",
   "id": "128698f4",
   "metadata": {},
   "source": [
    "# Name : Maria Anson\n",
    "## NUID : 002931419"
   ]
  },
  {
   "cell_type": "markdown",
   "id": "47362adc",
   "metadata": {},
   "source": [
    "For this exercise, use Scikit-Learn in Python. \n",
    "Download the dataset of the HW02 from piazza. The dataset is in Matlab format (.mat); \n",
    "\n",
    "You can use scipy.io.savemat to convert it to python format (.npy). There are 126 training and 14 test samples, each being a two-dimensional feature vector. There are two classes (0 and 1)."
   ]
  },
  {
   "cell_type": "markdown",
   "id": "e19c671f",
   "metadata": {},
   "source": [
    "## Loading the libraries"
   ]
  },
  {
   "cell_type": "code",
   "execution_count": 1,
   "id": "a1eba7fe",
   "metadata": {},
   "outputs": [],
   "source": [
    "import scipy.io\n",
    "import numpy as np\n",
    "from sklearn import metrics\n",
    "import matplotlib.pyplot as plt"
   ]
  },
  {
   "cell_type": "markdown",
   "id": "a283c46c",
   "metadata": {},
   "source": [
    "## Loading the data"
   ]
  },
  {
   "cell_type": "code",
   "execution_count": 2,
   "id": "bb82b40e",
   "metadata": {},
   "outputs": [],
   "source": [
    "file = scipy.io.loadmat('hw02_dataset.mat')"
   ]
  },
  {
   "cell_type": "code",
   "execution_count": 3,
   "id": "54b825c4",
   "metadata": {},
   "outputs": [],
   "source": [
    "X_train = file['X_trn']\n",
    "y_train = file['Y_trn']\n",
    "X_test = file['X_tst']\n",
    "y_test = file['Y_tst']"
   ]
  },
  {
   "cell_type": "code",
   "execution_count": 4,
   "id": "2ce9a841",
   "metadata": {},
   "outputs": [
    {
     "name": "stdout",
     "output_type": "stream",
     "text": [
      "The dimension of the training dataset is (126, 2) with 126 rows and 2 columns\n",
      "The dimension of the training truth label is (126, 1) with 126 rows\n",
      "The dimension of the testing dataset is (14, 2) with 14 rows and 2 columns\n",
      "The dimension of the testing truth label is (14, 1) with 14 rows\n"
     ]
    }
   ],
   "source": [
    "print(f\"The dimension of the training dataset is {X_train.shape} with {X_train.shape[0]} rows and {X_train.shape[1]} columns\")\n",
    "print(f\"The dimension of the training truth label is {y_train.shape} with {y_train.shape[0]} rows\")\n",
    "print(f\"The dimension of the testing dataset is {X_test.shape} with {X_test.shape[0]} rows and {X_test.shape[1]} columns\")\n",
    "print(f\"The dimension of the testing truth label is {y_test.shape} with {y_test.shape[0]} rows\")"
   ]
  },
  {
   "cell_type": "markdown",
   "id": "2b3b9da4",
   "metadata": {},
   "source": [
    "Write down a code in Python (that uses logistic regression in Scikit-Learn) whose inputs are a training dataset and a test dataset and its output is the classification error on the test set."
   ]
  },
  {
   "cell_type": "markdown",
   "id": "06f05877",
   "metadata": {},
   "source": [
    "## Training the model"
   ]
  },
  {
   "cell_type": "code",
   "execution_count": 5,
   "id": "4599d1e9",
   "metadata": {},
   "outputs": [],
   "source": [
    "y_train = y_train.reshape(-1)\n",
    "y_test = y_test.reshape(-1)"
   ]
  },
  {
   "cell_type": "code",
   "execution_count": 6,
   "id": "94fdc613",
   "metadata": {},
   "outputs": [
    {
     "data": {
      "text/html": [
       "<style>#sk-container-id-1 {color: black;background-color: white;}#sk-container-id-1 pre{padding: 0;}#sk-container-id-1 div.sk-toggleable {background-color: white;}#sk-container-id-1 label.sk-toggleable__label {cursor: pointer;display: block;width: 100%;margin-bottom: 0;padding: 0.3em;box-sizing: border-box;text-align: center;}#sk-container-id-1 label.sk-toggleable__label-arrow:before {content: \"▸\";float: left;margin-right: 0.25em;color: #696969;}#sk-container-id-1 label.sk-toggleable__label-arrow:hover:before {color: black;}#sk-container-id-1 div.sk-estimator:hover label.sk-toggleable__label-arrow:before {color: black;}#sk-container-id-1 div.sk-toggleable__content {max-height: 0;max-width: 0;overflow: hidden;text-align: left;background-color: #f0f8ff;}#sk-container-id-1 div.sk-toggleable__content pre {margin: 0.2em;color: black;border-radius: 0.25em;background-color: #f0f8ff;}#sk-container-id-1 input.sk-toggleable__control:checked~div.sk-toggleable__content {max-height: 200px;max-width: 100%;overflow: auto;}#sk-container-id-1 input.sk-toggleable__control:checked~label.sk-toggleable__label-arrow:before {content: \"▾\";}#sk-container-id-1 div.sk-estimator input.sk-toggleable__control:checked~label.sk-toggleable__label {background-color: #d4ebff;}#sk-container-id-1 div.sk-label input.sk-toggleable__control:checked~label.sk-toggleable__label {background-color: #d4ebff;}#sk-container-id-1 input.sk-hidden--visually {border: 0;clip: rect(1px 1px 1px 1px);clip: rect(1px, 1px, 1px, 1px);height: 1px;margin: -1px;overflow: hidden;padding: 0;position: absolute;width: 1px;}#sk-container-id-1 div.sk-estimator {font-family: monospace;background-color: #f0f8ff;border: 1px dotted black;border-radius: 0.25em;box-sizing: border-box;margin-bottom: 0.5em;}#sk-container-id-1 div.sk-estimator:hover {background-color: #d4ebff;}#sk-container-id-1 div.sk-parallel-item::after {content: \"\";width: 100%;border-bottom: 1px solid gray;flex-grow: 1;}#sk-container-id-1 div.sk-label:hover label.sk-toggleable__label {background-color: #d4ebff;}#sk-container-id-1 div.sk-serial::before {content: \"\";position: absolute;border-left: 1px solid gray;box-sizing: border-box;top: 0;bottom: 0;left: 50%;z-index: 0;}#sk-container-id-1 div.sk-serial {display: flex;flex-direction: column;align-items: center;background-color: white;padding-right: 0.2em;padding-left: 0.2em;position: relative;}#sk-container-id-1 div.sk-item {position: relative;z-index: 1;}#sk-container-id-1 div.sk-parallel {display: flex;align-items: stretch;justify-content: center;background-color: white;position: relative;}#sk-container-id-1 div.sk-item::before, #sk-container-id-1 div.sk-parallel-item::before {content: \"\";position: absolute;border-left: 1px solid gray;box-sizing: border-box;top: 0;bottom: 0;left: 50%;z-index: -1;}#sk-container-id-1 div.sk-parallel-item {display: flex;flex-direction: column;z-index: 1;position: relative;background-color: white;}#sk-container-id-1 div.sk-parallel-item:first-child::after {align-self: flex-end;width: 50%;}#sk-container-id-1 div.sk-parallel-item:last-child::after {align-self: flex-start;width: 50%;}#sk-container-id-1 div.sk-parallel-item:only-child::after {width: 0;}#sk-container-id-1 div.sk-dashed-wrapped {border: 1px dashed gray;margin: 0 0.4em 0.5em 0.4em;box-sizing: border-box;padding-bottom: 0.4em;background-color: white;}#sk-container-id-1 div.sk-label label {font-family: monospace;font-weight: bold;display: inline-block;line-height: 1.2em;}#sk-container-id-1 div.sk-label-container {text-align: center;}#sk-container-id-1 div.sk-container {/* jupyter's `normalize.less` sets `[hidden] { display: none; }` but bootstrap.min.css set `[hidden] { display: none !important; }` so we also need the `!important` here to be able to override the default hidden behavior on the sphinx rendered scikit-learn.org. See: https://github.com/scikit-learn/scikit-learn/issues/21755 */display: inline-block !important;position: relative;}#sk-container-id-1 div.sk-text-repr-fallback {display: none;}</style><div id=\"sk-container-id-1\" class=\"sk-top-container\"><div class=\"sk-text-repr-fallback\"><pre>LogisticRegression()</pre><b>In a Jupyter environment, please rerun this cell to show the HTML representation or trust the notebook. <br />On GitHub, the HTML representation is unable to render, please try loading this page with nbviewer.org.</b></div><div class=\"sk-container\" hidden><div class=\"sk-item\"><div class=\"sk-estimator sk-toggleable\"><input class=\"sk-toggleable__control sk-hidden--visually\" id=\"sk-estimator-id-1\" type=\"checkbox\" checked><label for=\"sk-estimator-id-1\" class=\"sk-toggleable__label sk-toggleable__label-arrow\">LogisticRegression</label><div class=\"sk-toggleable__content\"><pre>LogisticRegression()</pre></div></div></div></div></div>"
      ],
      "text/plain": [
       "LogisticRegression()"
      ]
     },
     "execution_count": 6,
     "metadata": {},
     "output_type": "execute_result"
    }
   ],
   "source": [
    "from sklearn.linear_model import LogisticRegression\n",
    "\n",
    "model = LogisticRegression()\n",
    "model.fit(X_train, y_train.reshape(-1))"
   ]
  },
  {
   "cell_type": "markdown",
   "id": "c87c0955",
   "metadata": {},
   "source": [
    "Report the classification error on the test set of the dataset used in the previous question.Report the classification error on the test set of the dataset used in the previous question."
   ]
  },
  {
   "cell_type": "code",
   "execution_count": 7,
   "id": "e44f3b98",
   "metadata": {},
   "outputs": [
    {
     "name": "stdout",
     "output_type": "stream",
     "text": [
      "The classification error of the model on the training data is  0.03174603\n",
      "The classification error of the model on the testing data is  0.07142857\n"
     ]
    }
   ],
   "source": [
    "def classification_error(actual, prediction):\n",
    "    false_positive = actual[actual!=prediction]\n",
    "    return np.round(len(false_positive)/len(actual),8)\n",
    "\n",
    "train_pred = model.predict(X_train)\n",
    "test_pred = model.predict(X_test)\n",
    "\n",
    "print(\"The classification error of the model on the training data is \", classification_error(y_train, train_pred))\n",
    "print(\"The classification error of the model on the testing data is \", classification_error(y_test, test_pred))"
   ]
  },
  {
   "cell_type": "code",
   "execution_count": 8,
   "id": "085d436c",
   "metadata": {},
   "outputs": [
    {
     "name": "stdout",
     "output_type": "stream",
     "text": [
      "The trained logisitc regression model has a test mean squared error of  0.02657104\n",
      "The trained logisitc regression model has a train mean squared error of  0.0256866\n"
     ]
    }
   ],
   "source": [
    "def mean_squared_error(true_value, prob):\n",
    "    return np.round(np.average((true_value - prob)**2),8)\n",
    "\n",
    "print(\"The trained logisitc regression model has a test mean squared error of \", \n",
    "      mean_squared_error(model.predict_proba(X_test)[:,1], y_test))\n",
    "\n",
    "print(\"The trained logisitc regression model has a train mean squared error of \", \n",
    "      mean_squared_error(model.predict_proba(X_train)[:,1], y_train))"
   ]
  },
  {
   "cell_type": "markdown",
   "id": "84a3a729",
   "metadata": {},
   "source": [
    "Plot the data (use different colors for data in different classes) and plot the decision boundary found by the logistic regressions."
   ]
  },
  {
   "cell_type": "markdown",
   "id": "ab526592",
   "metadata": {},
   "source": [
    "## Visualizing the model"
   ]
  },
  {
   "cell_type": "code",
   "execution_count": 9,
   "id": "3af92da7",
   "metadata": {},
   "outputs": [],
   "source": [
    "neg_X_train = X_train[y_train==0]\n",
    "pos_X_train = X_train[y_train==1]\n",
    "\n",
    "neg_y_train = y_train[y_train==0]\n",
    "pos_y_train = y_train[y_train==1]\n",
    "\n",
    "neg_X_test = X_test[y_test==0]\n",
    "pos_X_test = X_test[y_test==1]\n",
    "\n",
    "neg_y_test = y_test[y_test==0]\n",
    "pos_y_test = y_test[y_test==1]"
   ]
  },
  {
   "cell_type": "markdown",
   "id": "809680a1",
   "metadata": {},
   "source": [
    "### We can think of the decision boundary as Feature2 = m*Feature1 + c \n",
    "### i.e (x2 = m*x1 + c)\n",
    "### logistic eqn z = w1*x1 + w2*x2 + b \n",
    "#### If x1 = 0 -> x2 = c\n",
    "logistic eqn - > z = 0 + w2*c + b\n",
    "\n",
    "we know z=0 when y=0.5\n",
    "\n",
    "-> 0 = 0 + w2*c + b\n",
    "\n",
    "## c = -b/w2\n",
    "\n",
    "To find slope, we can use -b/a which is \n",
    "\n",
    "## m = -w1/w2\n",
    "    \n",
    "\n",
    "\n",
    "\n"
   ]
  },
  {
   "cell_type": "code",
   "execution_count": 10,
   "id": "dc78287d",
   "metadata": {},
   "outputs": [],
   "source": [
    "b = model.intercept_[0]\n",
    "w1, w2 = model.coef_[0]"
   ]
  },
  {
   "cell_type": "code",
   "execution_count": 11,
   "id": "5421278c",
   "metadata": {},
   "outputs": [
    {
     "data": {
      "image/png": "[encoded data removed]",
      "text/plain": [
       "<Figure size 432x288 with 1 Axes>"
      ]
     },
     "metadata": {
      "needs_background": "light"
     },
     "output_type": "display_data"
    }
   ],
   "source": [
    "plt.scatter(x=pos_X_train[:,0], y=pos_X_train[:,1], label = '1 - Train Positive Class')\n",
    "plt.scatter(x=neg_X_train[:,0], y=neg_X_train[:,1], label = '0 - Train Negative Class')\n",
    "plt.scatter(x=pos_X_test[:,0], y=pos_X_test[:,1], label = '1 - Test Positive Class')\n",
    "plt.scatter(x=neg_X_test[:,0], y=neg_X_test[:,1], label = '0 - Test Negative Class')\n",
    "\n",
    "\n",
    "x1_min = X_train[:,0].min()\n",
    "x1_max = X_train[:,0].max()\n",
    "c = -b/w2\n",
    "m = -w1/w2\n",
    "x = np.array([x1_min, x1_max])\n",
    "y = m*x + c\n",
    "plt.plot(x, y, 'k', lw=1, ls='--')\n",
    "\n",
    "plt.fill_between(x, y, -0.5, color='tab:blue', alpha=0.2)\n",
    "plt.fill_between(x, y, X_train[:,1].max(), color='tab:orange', alpha=0.2)\n",
    "\n",
    "plt.xlabel('Feature 1')\n",
    "plt.xlim(-2,2)\n",
    "plt.ylim(-0.5, X_train[:,1].max())\n",
    "plt.ylabel('Feature 2')\n",
    "plt.title('Decision Boundary')\n",
    "plt.legend()\n",
    "plt.show()"
   ]
  },
  {
   "cell_type": "markdown",
   "id": "c0b75bbc",
   "metadata": {},
   "source": [
    "Report the train and test classification accuracies (percentage of samples in the train- ing/testing set that get classified correctly using the learned logistic regression model).\n"
   ]
  },
  {
   "cell_type": "markdown",
   "id": "d940ff12",
   "metadata": {},
   "source": [
    "## Testing the model"
   ]
  },
  {
   "cell_type": "code",
   "execution_count": 12,
   "id": "236aebf1",
   "metadata": {},
   "outputs": [],
   "source": [
    "def accuracy(true_label, prediction_label):\n",
    "    true_positive = true_label[true_label == prediction_label]\n",
    "    return np.round(len(true_positive)/len(true_label),8)"
   ]
  },
  {
   "cell_type": "code",
   "execution_count": 13,
   "id": "7437b305",
   "metadata": {},
   "outputs": [
    {
     "name": "stdout",
     "output_type": "stream",
     "text": [
      "The classification accuracy of the model on the training data is  0.96825397\n",
      "The classification accuracy of the model on the testing data is  0.92857143\n"
     ]
    }
   ],
   "source": [
    "train_pred = model.predict(X_train)\n",
    "test_pred = model.predict(X_test)\n",
    "\n",
    "print(\"The classification accuracy of the model on the training data is \", accuracy(y_train, train_pred))\n",
    "print(\"The classification accuracy of the model on the testing data is \", accuracy(y_test, test_pred))"
   ]
  },
  {
   "cell_type": "code",
   "execution_count": 14,
   "id": "46914716",
   "metadata": {},
   "outputs": [
    {
     "name": "stdout",
     "output_type": "stream",
     "text": [
      "Training Performance\n",
      "\n",
      "              precision    recall  f1-score   support\n",
      "\n",
      "           0       0.97      0.97      0.97        63\n",
      "           1       0.97      0.97      0.97        63\n",
      "\n",
      "    accuracy                           0.97       126\n",
      "   macro avg       0.97      0.97      0.97       126\n",
      "weighted avg       0.97      0.97      0.97       126\n",
      "\n",
      "=====================================================\n",
      "Testing Performance\n",
      "\n",
      "              precision    recall  f1-score   support\n",
      "\n",
      "           0       0.88      1.00      0.93         7\n",
      "           1       1.00      0.86      0.92         7\n",
      "\n",
      "    accuracy                           0.93        14\n",
      "   macro avg       0.94      0.93      0.93        14\n",
      "weighted avg       0.94      0.93      0.93        14\n",
      "\n"
     ]
    }
   ],
   "source": [
    "## Brief summary of performance\n",
    "print(\"Training Performance\\n\")\n",
    "print(metrics.classification_report(y_train, train_pred))\n",
    "print(\"=====================================================\\nTesting Performance\\n\")\n",
    "print(metrics.classification_report(y_test, test_pred))"
   ]
  }
 ],
 "metadata": {
  "kernelspec": {
   "display_name": "Python 3 (ipykernel)",
   "language": "python",
   "name": "python3"
  },
  "language_info": {
   "codemirror_mode": {
    "name": "ipython",
    "version": 3
   },
   "file_extension": ".py",
   "mimetype": "text/x-python",
   "name": "python",
   "nbconvert_exporter": "python",
   "pygments_lexer": "ipython3",
   "version": "3.9.12"
  }
 },
 "nbformat": 4,
 "nbformat_minor": 5
}
