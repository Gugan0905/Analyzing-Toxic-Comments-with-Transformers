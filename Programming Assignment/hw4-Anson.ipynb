{
 "cells": [
  {
   "cell_type": "markdown",
   "id": "9dc9e84d-1ec6-45f5-97d9-2fc929fff488",
   "metadata": {
    "tags": []
   },
   "source": [
    "## Importing the libraries"
   ]
  },
  {
   "cell_type": "code",
   "execution_count": 1,
   "id": "501f7a7e-02c7-4d61-9f83-7f8a2003c81e",
   "metadata": {},
   "outputs": [
    {
     "name": "stdout",
     "output_type": "stream",
     "text": [
      "True\n",
      "True\n"
     ]
    }
   ],
   "source": [
    "import torch\n",
    "from torch import nn\n",
    "from torch.utils.data import TensorDataset, DataLoader\n",
    "import math\n",
    "# this ensures that the current MacOS version is at least 12.3+\n",
    "print(torch.backends.mps.is_available())\n",
    "# this ensures that the current current PyTorch installation was built with MPS activated.\n",
    "print(torch.backends.mps.is_built())"
   ]
  },
  {
   "cell_type": "code",
   "execution_count": 2,
   "id": "44156130-1657-4e30-8b34-7ed5c5932a6d",
   "metadata": {},
   "outputs": [],
   "source": [
    "import pandas as pd\n",
    "import copy\n",
    "import numpy as np\n",
    "import matplotlib.pyplot as plt\n",
    "from sklearn import metrics"
   ]
  },
  {
   "cell_type": "code",
   "execution_count": 3,
   "id": "58223c02-7b67-46ab-b285-459436ff4690",
   "metadata": {},
   "outputs": [],
   "source": [
    "class color:\n",
    "   PURPLE = '\\033[95m'\n",
    "   CYAN = '\\033[96m'\n",
    "   DARKCYAN = '\\033[36m'\n",
    "   BLUE = '\\033[94m'\n",
    "   GREEN = '\\033[92m'\n",
    "   YELLOW = '\\033[93m'\n",
    "   RED = '\\033[91m'\n",
    "   BOLD = '\\033[1m'\n",
    "   UNDERLINE = '\\033[4m'\n",
    "   END = '\\033[0m'"
   ]
  },
  {
   "cell_type": "markdown",
   "id": "35c831f8-cfd7-45fe-acb1-8ca309d40123",
   "metadata": {
    "tags": []
   },
   "source": [
    "# 3. Movie Genre Classification using FeedFroward NNs"
   ]
  },
  {
   "cell_type": "markdown",
   "id": "86ac0c64-615a-4fa3-96d8-76221c990b1d",
   "metadata": {},
   "source": [
    "1. Download the dataset of HW4 (Click Here!), which consists of three files: train.txt, validation.txt and test.txt. Each line of a file contains a movie name, movie genre and a short description of the movie. The task is to classify movie genre using the given description. Read the dataset and report the data statistics (number of classes, number of instances in each class) for train, validation and test sets."
   ]
  },
  {
   "cell_type": "markdown",
   "id": "ce079148-8bab-4e25-aa30-e0b4fab0d5db",
   "metadata": {
    "tags": []
   },
   "source": [
    "### 3.a Data Statistics"
   ]
  },
  {
   "cell_type": "code",
   "execution_count": 4,
   "id": "fe119a2a-98f0-4b10-b32f-a8e70254e9cd",
   "metadata": {},
   "outputs": [],
   "source": [
    "train_df = pd.read_csv('hw04_data/train.csv')\n",
    "test_df = pd.read_csv('hw04_data/test.csv')\n",
    "validation_df = pd.read_csv('hw04_data/validation.csv')"
   ]
  },
  {
   "cell_type": "code",
   "execution_count": 5,
   "id": "0b49241d-0b70-4cc3-9353-0e8b2a18b33a",
   "metadata": {},
   "outputs": [],
   "source": [
    "def print_data_statistics(dataframe, name):\n",
    "    print(\"---------------------\"+ color.BOLD + name + color.END+\"---------------------\")\n",
    "    print(dataframe.genre.value_counts())\n",
    "    dataframe['genre'].value_counts().plot(kind='bar')\n",
    "    plt.title(f\"{name} dataset distribution\")\n",
    "    plt.show()"
   ]
  },
  {
   "cell_type": "code",
   "execution_count": 6,
   "id": "e2c6b42c-bdb2-4cb9-a4a8-9c9091608386",
   "metadata": {},
   "outputs": [
    {
     "name": "stdout",
     "output_type": "stream",
     "text": [
      "---------------------\u001B[1mTrain\u001B[0m---------------------\n",
      "drama          5483\n",
      "documentary    4861\n",
      "comedy         3896\n",
      "horror         2104\n",
      "thriller       1568\n",
      "action         1312\n",
      "Name: genre, dtype: int64\n"
     ]
    },
    {
     "data": {
      "image/png": "[encoded data removed]",
      "text/plain": [
       "<Figure size 432x288 with 1 Axes>"
      ]
     },
     "metadata": {
      "needs_background": "light"
     },
     "output_type": "display_data"
    },
    {
     "name": "stdout",
     "output_type": "stream",
     "text": [
      "---------------------\u001B[1mTest\u001B[0m---------------------\n",
      "drama          3012\n",
      "documentary    2716\n",
      "comedy         2241\n",
      "horror         1102\n",
      "thriller        795\n",
      "action          657\n",
      "Name: genre, dtype: int64\n"
     ]
    },
    {
     "data": {
      "image/png": "[encoded data removed]",
      "text/plain": [
       "<Figure size 432x288 with 1 Axes>"
      ]
     },
     "metadata": {
      "needs_background": "light"
     },
     "output_type": "display_data"
    },
    {
     "name": "stdout",
     "output_type": "stream",
     "text": [
      "---------------------\u001B[1mValidation\u001B[0m---------------------\n",
      "drama          3012\n",
      "documentary    2716\n",
      "comedy         2241\n",
      "horror         1102\n",
      "thriller        795\n",
      "action          657\n",
      "Name: genre, dtype: int64\n"
     ]
    },
    {
     "data": {
      "image/png": "[encoded data removed]",
      "text/plain": [
       "<Figure size 432x288 with 1 Axes>"
      ]
     },
     "metadata": {
      "needs_background": "light"
     },
     "output_type": "display_data"
    }
   ],
   "source": [
    "print_data_statistics(train_df,\"Train\")\n",
    "print_data_statistics(test_df,\"Test\")\n",
    "print_data_statistics(validation_df,\"Validation\")"
   ]
  },
  {
   "cell_type": "markdown",
   "id": "107d030b-251e-4c17-895c-c69cbb9e2cf1",
   "metadata": {
    "tags": []
   },
   "source": [
    "### 3.b Feed Forward Neural Network Implementation"
   ]
  },
  {
   "cell_type": "markdown",
   "id": "2144406f-fa72-4135-a8d6-283bc4adf63d",
   "metadata": {},
   "source": [
    "2. Implement a Feed Forward Neural Network with n layers using PyTorch that takes as input the number of layers n and the number of nodes in each layer, Sl for l ∈ {1,...,n}. The loss function must be the cross-entropy loss. Use an activation function of your choice and also choose optimizer, learning rate, batch size, and epoch."
   ]
  },
  {
   "cell_type": "code",
   "execution_count": 7,
   "id": "681c2239-9581-4662-beea-4e7bd14c74c0",
   "metadata": {},
   "outputs": [],
   "source": [
    "from sklearn.preprocessing import LabelEncoder\n",
    "\n",
    "label_encoder = LabelEncoder().fit(train_df.genre)\n",
    "\n",
    "train_features = torch.tensor(train_df[train_df.columns[:-1]].values)\n",
    "train_target = torch.tensor(label_encoder.transform(train_df['genre']))\n",
    "\n",
    "test_features = torch.tensor(test_df[test_df.columns[:-1]].values)\n",
    "test_target = torch.tensor(label_encoder.transform(test_df.genre.values))\n",
    "\n",
    "validation_features = torch.tensor(validation_df[validation_df.columns[:-1]].values)\n",
    "validation_target = torch.tensor(label_encoder.transform(validation_df.genre.values))"
   ]
  },
  {
   "cell_type": "code",
   "execution_count": 8,
   "id": "380c5e25-272d-49f7-85aa-d6cacaefd6b8",
   "metadata": {},
   "outputs": [],
   "source": [
    "train_dataset = TensorDataset(train_features, train_target)\n",
    "val_dataset = TensorDataset(test_features, test_target)\n",
    "test_dataset = TensorDataset(validation_features, validation_target)\n",
    "\n",
    "train_loader = DataLoader(train_dataset, batch_size=32, shuffle=True)\n",
    "val_loader = DataLoader(val_dataset, batch_size=32)\n",
    "test_loader = DataLoader(test_dataset, batch_size=32)"
   ]
  },
  {
   "cell_type": "code",
   "execution_count": 9,
   "id": "721e120b-93ff-44dd-b85f-f7ee2c87fc50",
   "metadata": {},
   "outputs": [],
   "source": [
    "def implement_neural_network(no_layers, nodes_in_layer, activation_function, learning_rate, no_epoch, train_loader, val_loader):\n",
    "    no_classes = train_loader.dataset.tensors[1].unique().shape[0]\n",
    "    \n",
    "    class NeuralNetwork(nn.Module):\n",
    "        def __init__(self):\n",
    "            super().__init__()\n",
    "            self.layers = nn.ModuleList()\n",
    "            for i in range(no_layers):\n",
    "                if i==0:\n",
    "                    self.layers.append(nn.Linear(train_loader.dataset.tensors[0].shape[1] ,nodes_in_layer[i], dtype=torch.float64))\n",
    "                else:\n",
    "                    self.layers.append(nn.Linear(nodes_in_layer[i-1], nodes_in_layer[i], dtype=torch.float64))\n",
    "            self.layers.append(nn.Linear(nodes_in_layer[i-1], no_classes, dtype=torch.float64))\n",
    "        \n",
    "        def forward(self, X):\n",
    "            x = X\n",
    "            for layer in self.layers[:-1]:\n",
    "                x = activation_function(layer(x))\n",
    "            x = self.layers[-1](x)\n",
    "\n",
    "            return x\n",
    "        \n",
    "    criterion = nn.CrossEntropyLoss()\n",
    "    model = NeuralNetwork()\n",
    "    optimizer = torch.optim.Adam(model.parameters(), lr=learning_rate)\n",
    "    print(model.layers)\n",
    "    \n",
    "    train_losses = []\n",
    "    val_losses = []\n",
    "    best_val_loss = 99999999.0\n",
    "    best_model = None\n",
    "    \n",
    "    for epoch in range(no_epoch):\n",
    "        running_train_loss = 0.0\n",
    "        running_val_loss = 0.0\n",
    "        model.train()\n",
    "        for i, (data, labels) in enumerate(train_loader):\n",
    "            optimizer.zero_grad()\n",
    "            outputs = model(data)\n",
    "            loss = criterion(outputs, labels)\n",
    "            loss.backward()\n",
    "            optimizer.step()\n",
    "            running_train_loss += loss.item()\n",
    "        \n",
    "        train_losses.append(running_train_loss / len(train_loader))\n",
    "        model.eval()\n",
    "        with torch.no_grad():\n",
    "            for i, (data, labels) in enumerate(val_loader):\n",
    "                outputs = model(data)\n",
    "                loss = criterion(outputs, labels)\n",
    "                running_val_loss += loss.item()\n",
    "            val_losses.append(running_val_loss / len(val_loader))\n",
    "        print(f\"Epoch {epoch+1}: Train Loss {train_losses[-1]:.4f}, Val Loss {val_losses[-1]:.4f}\")\n",
    "        \n",
    "        if val_losses[-1] < best_val_loss:\n",
    "            best_val_loss = val_losses[-1]\n",
    "            print(\"Found a new model with the lowest validation loss\")\n",
    "            best_model = copy.deepcopy(model)\n",
    "        \n",
    "    plt.plot(train_losses, label=\"Train Loss\")\n",
    "    plt.plot(val_losses, label=\"Val Loss\")\n",
    "    plt.xlabel(\"Epoch\")\n",
    "    plt.ylabel(\"Loss\")\n",
    "    plt.legend()\n",
    "    plt.show()\n",
    "    \n",
    "    return best_model"
   ]
  },
  {
   "cell_type": "code",
   "execution_count": 10,
   "id": "279dccf1-200f-4212-91e7-c5442bd227c3",
   "metadata": {},
   "outputs": [],
   "source": [
    "def eval_neural_network(model, test_loader, name, return_arg = False):\n",
    "    model.eval()\n",
    "    with torch.no_grad():\n",
    "        # for data, labels in test_loader\n",
    "        outputs = model(test_loader.dataset.tensors[0])\n",
    "        labels = test_loader.dataset.tensors[1]\n",
    "        _, predicted = torch.max(outputs.data, 1)\n",
    "\n",
    "        cm = metrics.confusion_matrix(predicted,labels)\n",
    "        accuracies_in_class = (cm.astype('float') / cm.sum(axis=1)[:, np.newaxis]).diagonal()\n",
    "        if return_arg:\n",
    "            return np.round(metrics.accuracy_score(predicted,labels),3), accuracies_in_class\n",
    "        else:\n",
    "            print(\"---------------------\"+ color.BOLD + name + color.END+\"---------------------\")\n",
    "            print(\"\\nMean Accuracy Score across all categories:\", np.round(metrics.accuracy_score(predicted,labels),3))\n",
    "            print(\"\\n\")\n",
    "            for i in range(len(accuracies_in_class)):\n",
    "                print(\"Accuracy for class \"+ label_encoder.inverse_transform([i])[0] + \" : \"+ color.BOLD + str(np.round(accuracies_in_class[i],3)) + color.END)\n",
    "            print(\"\\n\")\n",
    "            print(metrics.classification_report(predicted, labels))        "
   ]
  },
  {
   "cell_type": "code",
   "execution_count": 11,
   "id": "c54ddb2e-a1f1-4192-98c6-9a372d4e9a8c",
   "metadata": {},
   "outputs": [],
   "source": [
    "activation = nn.ReLU()"
   ]
  },
  {
   "cell_type": "markdown",
   "id": "db102dd9-94c1-43c5-9f85-1769cb2ea708",
   "metadata": {
    "tags": []
   },
   "source": [
    "### 3.c Model 1"
   ]
  },
  {
   "cell_type": "markdown",
   "id": "371affc1-a84a-422b-8ca8-a34b941f5cfb",
   "metadata": {},
   "source": [
    "3. Train the NN with one hidden layer having 64 neurons on the training dataset. Use the val- idation dataset during training to select the best performing model. Evaluate the best model on the test dataset. Report the mean classification accuracy and mean per class accuracy for train set, validation set and test set. Also, plot training and validation losses with respect to epoch in the same figure."
   ]
  },
  {
   "cell_type": "code",
   "execution_count": 12,
   "id": "0423b653-d920-4cc2-bb2f-f680651e4c3c",
   "metadata": {},
   "outputs": [
    {
     "name": "stdout",
     "output_type": "stream",
     "text": [
      "ModuleList(\n",
      "  (0): Linear(in_features=300, out_features=64, bias=True)\n",
      "  (1): Linear(in_features=64, out_features=6, bias=True)\n",
      ")\n",
      "Epoch 1: Train Loss 1.6268, Val Loss 1.5654\n",
      "Found a new model with the lowest validation loss\n",
      "Epoch 2: Train Loss 1.4661, Val Loss 1.4157\n",
      "Found a new model with the lowest validation loss\n",
      "Epoch 3: Train Loss 1.3107, Val Loss 1.2619\n",
      "Found a new model with the lowest validation loss\n",
      "Epoch 4: Train Loss 1.2148, Val Loss 1.2180\n",
      "Found a new model with the lowest validation loss\n",
      "Epoch 5: Train Loss 1.1586, Val Loss 1.1657\n",
      "Found a new model with the lowest validation loss\n",
      "Epoch 6: Train Loss 1.1100, Val Loss 1.1698\n",
      "Epoch 7: Train Loss 1.0806, Val Loss 1.0759\n",
      "Found a new model with the lowest validation loss\n",
      "Epoch 8: Train Loss 1.0577, Val Loss 1.0933\n",
      "Epoch 9: Train Loss 1.0350, Val Loss 1.1087\n",
      "Epoch 10: Train Loss 1.0210, Val Loss 1.0415\n",
      "Found a new model with the lowest validation loss\n",
      "Epoch 11: Train Loss 1.0095, Val Loss 1.0485\n",
      "Epoch 12: Train Loss 0.9992, Val Loss 1.0159\n",
      "Found a new model with the lowest validation loss\n",
      "Epoch 13: Train Loss 0.9866, Val Loss 1.0100\n",
      "Found a new model with the lowest validation loss\n",
      "Epoch 14: Train Loss 0.9832, Val Loss 1.0287\n",
      "Epoch 15: Train Loss 0.9759, Val Loss 1.0044\n",
      "Found a new model with the lowest validation loss\n",
      "Epoch 16: Train Loss 0.9703, Val Loss 1.0017\n",
      "Found a new model with the lowest validation loss\n",
      "Epoch 17: Train Loss 0.9655, Val Loss 1.0114\n",
      "Epoch 18: Train Loss 0.9557, Val Loss 0.9961\n",
      "Found a new model with the lowest validation loss\n",
      "Epoch 19: Train Loss 0.9503, Val Loss 0.9830\n",
      "Found a new model with the lowest validation loss\n",
      "Epoch 20: Train Loss 0.9452, Val Loss 0.9778\n",
      "Found a new model with the lowest validation loss\n"
     ]
    },
    {
     "data": {
      "image/png": "[encoded data removed]",
      "text/plain": [
       "<Figure size 432x288 with 1 Axes>"
      ]
     },
     "metadata": {
      "needs_background": "light"
     },
     "output_type": "display_data"
    }
   ],
   "source": [
    "model1 = implement_neural_network(no_layers=1, nodes_in_layer=[64], activation_function=activation, \n",
    "                                  learning_rate=0.001, no_epoch=20, train_loader=train_loader, val_loader=val_loader)"
   ]
  },
  {
   "cell_type": "code",
   "execution_count": 13,
   "id": "9ef36500-2c11-464f-bade-4fbddf87bf45",
   "metadata": {},
   "outputs": [
    {
     "name": "stdout",
     "output_type": "stream",
     "text": [
      "---------------------\u001B[1mTraining Metrics\u001B[0m---------------------\n",
      "\n",
      "Mean Accuracy Score across all categories: 0.651\n",
      "\n",
      "\n",
      "Accuracy for class action : \u001B[1m0.624\u001B[0m\n",
      "Accuracy for class comedy : \u001B[1m0.638\u001B[0m\n",
      "Accuracy for class documentary : \u001B[1m0.798\u001B[0m\n",
      "Accuracy for class drama : \u001B[1m0.553\u001B[0m\n",
      "Accuracy for class horror : \u001B[1m0.729\u001B[0m\n",
      "Accuracy for class thriller : \u001B[1m0.435\u001B[0m\n",
      "\n",
      "\n",
      "              precision    recall  f1-score   support\n",
      "\n",
      "           0       0.45      0.62      0.52       950\n",
      "           1       0.62      0.64      0.63      3780\n",
      "           2       0.84      0.80      0.82      5116\n",
      "           3       0.73      0.55      0.63      7203\n",
      "           4       0.60      0.73      0.66      1724\n",
      "           5       0.12      0.43      0.19       451\n",
      "\n",
      "    accuracy                           0.65     19224\n",
      "   macro avg       0.56      0.63      0.57     19224\n",
      "weighted avg       0.70      0.65      0.67     19224\n",
      "\n",
      "---------------------\u001B[1mTesting Metrics\u001B[0m---------------------\n",
      "\n",
      "Mean Accuracy Score across all categories: 0.643\n",
      "\n",
      "\n",
      "Accuracy for class action : \u001B[1m0.54\u001B[0m\n",
      "Accuracy for class comedy : \u001B[1m0.638\u001B[0m\n",
      "Accuracy for class documentary : \u001B[1m0.788\u001B[0m\n",
      "Accuracy for class drama : \u001B[1m0.552\u001B[0m\n",
      "Accuracy for class horror : \u001B[1m0.688\u001B[0m\n",
      "Accuracy for class thriller : \u001B[1m0.417\u001B[0m\n",
      "\n",
      "\n",
      "              precision    recall  f1-score   support\n",
      "\n",
      "           0       0.48      0.54      0.51       585\n",
      "           1       0.59      0.64      0.61      2059\n",
      "           2       0.81      0.79      0.80      2806\n",
      "           3       0.73      0.55      0.63      3956\n",
      "           4       0.63      0.69      0.66      1014\n",
      "           5       0.05      0.42      0.10       103\n",
      "\n",
      "    accuracy                           0.64     10523\n",
      "   macro avg       0.55      0.60      0.55     10523\n",
      "weighted avg       0.69      0.64      0.66     10523\n",
      "\n",
      "---------------------\u001B[1mValidation Metrics\u001B[0m---------------------\n",
      "\n",
      "Mean Accuracy Score across all categories: 0.632\n",
      "\n",
      "\n",
      "Accuracy for class action : \u001B[1m0.568\u001B[0m\n",
      "Accuracy for class comedy : \u001B[1m0.622\u001B[0m\n",
      "Accuracy for class documentary : \u001B[1m0.768\u001B[0m\n",
      "Accuracy for class drama : \u001B[1m0.544\u001B[0m\n",
      "Accuracy for class horror : \u001B[1m0.677\u001B[0m\n",
      "Accuracy for class thriller : \u001B[1m0.451\u001B[0m\n",
      "\n",
      "\n",
      "              precision    recall  f1-score   support\n",
      "\n",
      "           0       0.50      0.57      0.53       581\n",
      "           1       0.57      0.62      0.60      2059\n",
      "           2       0.79      0.77      0.78      2806\n",
      "           3       0.72      0.54      0.62      3993\n",
      "           4       0.60      0.68      0.64       982\n",
      "           5       0.06      0.45      0.10       102\n",
      "\n",
      "    accuracy                           0.63     10523\n",
      "   macro avg       0.54      0.61      0.55     10523\n",
      "weighted avg       0.68      0.63      0.65     10523\n",
      "\n"
     ]
    }
   ],
   "source": [
    "eval_neural_network(model1, train_loader, \"Training Metrics\")\n",
    "eval_neural_network(model1, test_loader, \"Testing Metrics\")\n",
    "eval_neural_network(model1, val_loader, \"Validation Metrics\")"
   ]
  },
  {
   "cell_type": "markdown",
   "id": "578d2346-af08-4d65-b1dd-e250e76eda58",
   "metadata": {
    "tags": []
   },
   "source": [
    "### 3.d Model 2"
   ]
  },
  {
   "cell_type": "markdown",
   "id": "f7833731-8830-48a1-9ab5-30eae03a2f3a",
   "metadata": {},
   "source": [
    "4. Train the NN with two hidden layers having 64 neurons each on the training dataset. Use the validation dataset during training to select the best performing model. Evaluate the best model on the test dataset. Report the mean classification accuracy and mean per class accu- racy for train set, validation set and test set. Also, plot training and validation losses with respect to epoch in the same figure."
   ]
  },
  {
   "cell_type": "code",
   "execution_count": 14,
   "id": "e11f73a1-fc5b-4686-b671-ec6a94ebfe22",
   "metadata": {},
   "outputs": [
    {
     "name": "stdout",
     "output_type": "stream",
     "text": [
      "ModuleList(\n",
      "  (0): Linear(in_features=300, out_features=64, bias=True)\n",
      "  (1): Linear(in_features=64, out_features=64, bias=True)\n",
      "  (2): Linear(in_features=64, out_features=6, bias=True)\n",
      ")\n",
      "Epoch 1: Train Loss 1.5902, Val Loss 1.4143\n",
      "Found a new model with the lowest validation loss\n",
      "Epoch 2: Train Loss 1.3280, Val Loss 1.2514\n",
      "Found a new model with the lowest validation loss\n",
      "Epoch 3: Train Loss 1.2082, Val Loss 1.3239\n",
      "Epoch 4: Train Loss 1.1355, Val Loss 1.1083\n",
      "Found a new model with the lowest validation loss\n",
      "Epoch 5: Train Loss 1.1076, Val Loss 1.1866\n",
      "Epoch 6: Train Loss 1.0944, Val Loss 1.0742\n",
      "Found a new model with the lowest validation loss\n",
      "Epoch 7: Train Loss 1.0691, Val Loss 1.1095\n",
      "Epoch 8: Train Loss 1.0559, Val Loss 1.0758\n",
      "Epoch 9: Train Loss 1.0420, Val Loss 1.1052\n",
      "Epoch 10: Train Loss 1.0133, Val Loss 1.0903\n",
      "Epoch 11: Train Loss 0.9861, Val Loss 1.0516\n",
      "Found a new model with the lowest validation loss\n",
      "Epoch 12: Train Loss 0.9782, Val Loss 1.0780\n",
      "Epoch 13: Train Loss 0.9667, Val Loss 0.9806\n",
      "Found a new model with the lowest validation loss\n",
      "Epoch 14: Train Loss 0.9579, Val Loss 1.0162\n",
      "Epoch 15: Train Loss 0.9569, Val Loss 0.9730\n",
      "Found a new model with the lowest validation loss\n",
      "Epoch 16: Train Loss 0.9542, Val Loss 0.9687\n",
      "Found a new model with the lowest validation loss\n",
      "Epoch 17: Train Loss 0.9386, Val Loss 0.9910\n",
      "Epoch 18: Train Loss 0.9426, Val Loss 0.9830\n",
      "Epoch 19: Train Loss 0.9420, Val Loss 1.0129\n",
      "Epoch 20: Train Loss 0.9324, Val Loss 0.9645\n",
      "Found a new model with the lowest validation loss\n"
     ]
    },
    {
     "data": {
      "image/png": "[encoded data removed]",
      "text/plain": [
       "<Figure size 432x288 with 1 Axes>"
      ]
     },
     "metadata": {
      "needs_background": "light"
     },
     "output_type": "display_data"
    }
   ],
   "source": [
    "model2 = implement_neural_network(no_layers=2,nodes_in_layer=[64,64], activation_function=activation,\n",
    "                                  learning_rate=0.001,no_epoch=20, train_loader=train_loader, val_loader=val_loader)"
   ]
  },
  {
   "cell_type": "code",
   "execution_count": 15,
   "id": "f075c871-dc7e-44ca-90c4-3744696c888d",
   "metadata": {},
   "outputs": [
    {
     "name": "stdout",
     "output_type": "stream",
     "text": [
      "---------------------\u001B[1mTraining Metrics\u001B[0m---------------------\n",
      "\n",
      "Mean Accuracy Score across all categories: 0.662\n",
      "\n",
      "\n",
      "Accuracy for class action : \u001B[1m0.703\u001B[0m\n",
      "Accuracy for class comedy : \u001B[1m0.627\u001B[0m\n",
      "Accuracy for class documentary : \u001B[1m0.783\u001B[0m\n",
      "Accuracy for class drama : \u001B[1m0.61\u001B[0m\n",
      "Accuracy for class horror : \u001B[1m0.606\u001B[0m\n",
      "Accuracy for class thriller : \u001B[1m0.328\u001B[0m\n",
      "\n",
      "\n",
      "              precision    recall  f1-score   support\n",
      "\n",
      "           0       0.34      0.70      0.45       627\n",
      "           1       0.71      0.63      0.66      4391\n",
      "           2       0.85      0.78      0.82      5306\n",
      "           3       0.67      0.61      0.64      5996\n",
      "           4       0.78      0.61      0.68      2718\n",
      "           5       0.04      0.33      0.07       186\n",
      "\n",
      "    accuracy                           0.66     19224\n",
      "   macro avg       0.56      0.61      0.55     19224\n",
      "weighted avg       0.73      0.66      0.69     19224\n",
      "\n",
      "---------------------\u001B[1mTesting Metrics\u001B[0m---------------------\n",
      "\n",
      "Mean Accuracy Score across all categories: 0.641\n",
      "\n",
      "\n",
      "Accuracy for class action : \u001B[1m0.609\u001B[0m\n",
      "Accuracy for class comedy : \u001B[1m0.606\u001B[0m\n",
      "Accuracy for class documentary : \u001B[1m0.762\u001B[0m\n",
      "Accuracy for class drama : \u001B[1m0.604\u001B[0m\n",
      "Accuracy for class horror : \u001B[1m0.561\u001B[0m\n",
      "Accuracy for class thriller : \u001B[1m0.328\u001B[0m\n",
      "\n",
      "\n",
      "              precision    recall  f1-score   support\n",
      "\n",
      "           0       0.35      0.61      0.44       373\n",
      "           1       0.65      0.61      0.63      2393\n",
      "           2       0.84      0.76      0.80      2977\n",
      "           3       0.63      0.60      0.62      3160\n",
      "           4       0.79      0.56      0.66      1559\n",
      "           5       0.03      0.33      0.05        61\n",
      "\n",
      "    accuracy                           0.64     10523\n",
      "   macro avg       0.55      0.58      0.53     10523\n",
      "weighted avg       0.70      0.64      0.67     10523\n",
      "\n",
      "---------------------\u001B[1mValidation Metrics\u001B[0m---------------------\n",
      "\n",
      "Mean Accuracy Score across all categories: 0.641\n",
      "\n",
      "\n",
      "Accuracy for class action : \u001B[1m0.679\u001B[0m\n",
      "Accuracy for class comedy : \u001B[1m0.608\u001B[0m\n",
      "Accuracy for class documentary : \u001B[1m0.75\u001B[0m\n",
      "Accuracy for class drama : \u001B[1m0.607\u001B[0m\n",
      "Accuracy for class horror : \u001B[1m0.555\u001B[0m\n",
      "Accuracy for class thriller : \u001B[1m0.4\u001B[0m\n",
      "\n",
      "\n",
      "              precision    recall  f1-score   support\n",
      "\n",
      "           0       0.39      0.68      0.49       374\n",
      "           1       0.66      0.61      0.63      2449\n",
      "           2       0.82      0.75      0.78      2957\n",
      "           3       0.64      0.61      0.62      3161\n",
      "           4       0.77      0.55      0.64      1522\n",
      "           5       0.03      0.40      0.06        60\n",
      "\n",
      "    accuracy                           0.64     10523\n",
      "   macro avg       0.55      0.60      0.54     10523\n",
      "weighted avg       0.70      0.64      0.67     10523\n",
      "\n"
     ]
    }
   ],
   "source": [
    "eval_neural_network(model2, train_loader, \"Training Metrics\")\n",
    "eval_neural_network(model2, test_loader, \"Testing Metrics\")\n",
    "eval_neural_network(model2, val_loader, \"Validation Metrics\")"
   ]
  },
  {
   "cell_type": "markdown",
   "id": "e618304c-4177-4376-8864-013705d20d59",
   "metadata": {
    "tags": []
   },
   "source": [
    "### 3.e Model 3"
   ]
  },
  {
   "cell_type": "markdown",
   "id": "b197eff7-2d44-4ae1-8a1c-e5a63c14dda4",
   "metadata": {},
   "source": [
    "5. Repeat (c) using 128 neurons for the hidden layer."
   ]
  },
  {
   "cell_type": "code",
   "execution_count": 16,
   "id": "c08c529f-690f-4e0e-b7b4-d2f4766fc139",
   "metadata": {},
   "outputs": [
    {
     "name": "stdout",
     "output_type": "stream",
     "text": [
      "ModuleList(\n",
      "  (0): Linear(in_features=300, out_features=128, bias=True)\n",
      "  (1): Linear(in_features=128, out_features=6, bias=True)\n",
      ")\n",
      "Epoch 1: Train Loss 1.5706, Val Loss 1.4917\n",
      "Found a new model with the lowest validation loss\n",
      "Epoch 2: Train Loss 1.3277, Val Loss 1.2789\n",
      "Found a new model with the lowest validation loss\n",
      "Epoch 3: Train Loss 1.2011, Val Loss 1.2036\n",
      "Found a new model with the lowest validation loss\n",
      "Epoch 4: Train Loss 1.1275, Val Loss 1.1116\n",
      "Found a new model with the lowest validation loss\n",
      "Epoch 5: Train Loss 1.0911, Val Loss 1.0841\n",
      "Found a new model with the lowest validation loss\n",
      "Epoch 6: Train Loss 1.0529, Val Loss 1.0744\n",
      "Found a new model with the lowest validation loss\n",
      "Epoch 7: Train Loss 1.0308, Val Loss 1.1378\n",
      "Epoch 8: Train Loss 1.0217, Val Loss 1.1450\n",
      "Epoch 9: Train Loss 0.9962, Val Loss 1.0142\n",
      "Found a new model with the lowest validation loss\n",
      "Epoch 10: Train Loss 0.9816, Val Loss 1.0601\n",
      "Epoch 11: Train Loss 0.9802, Val Loss 0.9997\n",
      "Found a new model with the lowest validation loss\n",
      "Epoch 12: Train Loss 0.9681, Val Loss 1.0012\n",
      "Epoch 13: Train Loss 0.9620, Val Loss 1.0416\n",
      "Epoch 14: Train Loss 0.9581, Val Loss 0.9998\n",
      "Epoch 15: Train Loss 0.9498, Val Loss 0.9829\n",
      "Found a new model with the lowest validation loss\n",
      "Epoch 16: Train Loss 0.9485, Val Loss 1.0756\n",
      "Epoch 17: Train Loss 0.9395, Val Loss 1.0222\n",
      "Epoch 18: Train Loss 0.9290, Val Loss 0.9780\n",
      "Found a new model with the lowest validation loss\n",
      "Epoch 19: Train Loss 0.9237, Val Loss 1.0044\n",
      "Epoch 20: Train Loss 0.9232, Val Loss 1.0048\n"
     ]
    },
    {
     "data": {
      "image/png": "[encoded data removed]",
      "text/plain": [
       "<Figure size 432x288 with 1 Axes>"
      ]
     },
     "metadata": {
      "needs_background": "light"
     },
     "output_type": "display_data"
    }
   ],
   "source": [
    "model3 = implement_neural_network(no_layers=1, nodes_in_layer=[128], activation_function=activation, \n",
    "                                  learning_rate=0.001, no_epoch=20, train_loader=train_loader, val_loader=val_loader)"
   ]
  },
  {
   "cell_type": "code",
   "execution_count": 17,
   "id": "2e89e483-e879-414e-87a6-f5bd8d52837f",
   "metadata": {},
   "outputs": [
    {
     "name": "stdout",
     "output_type": "stream",
     "text": [
      "---------------------\u001B[1mTraining Metrics\u001B[0m---------------------\n",
      "\n",
      "Mean Accuracy Score across all categories: 0.654\n",
      "\n",
      "\n",
      "Accuracy for class action : \u001B[1m0.654\u001B[0m\n",
      "Accuracy for class comedy : \u001B[1m0.651\u001B[0m\n",
      "Accuracy for class documentary : \u001B[1m0.787\u001B[0m\n",
      "Accuracy for class drama : \u001B[1m0.548\u001B[0m\n",
      "Accuracy for class horror : \u001B[1m0.729\u001B[0m\n",
      "Accuracy for class thriller : \u001B[1m0.537\u001B[0m\n",
      "\n",
      "\n",
      "              precision    recall  f1-score   support\n",
      "\n",
      "           0       0.40      0.65      0.49       798\n",
      "           1       0.63      0.65      0.64      3747\n",
      "           2       0.85      0.79      0.82      5271\n",
      "           3       0.73      0.55      0.63      7319\n",
      "           4       0.62      0.73      0.67      1774\n",
      "           5       0.11      0.54      0.18       315\n",
      "\n",
      "    accuracy                           0.65     19224\n",
      "   macro avg       0.56      0.65      0.57     19224\n",
      "weighted avg       0.71      0.65      0.67     19224\n",
      "\n",
      "---------------------\u001B[1mTesting Metrics\u001B[0m---------------------\n",
      "\n",
      "Mean Accuracy Score across all categories: 0.641\n",
      "\n",
      "\n",
      "Accuracy for class action : \u001B[1m0.583\u001B[0m\n",
      "Accuracy for class comedy : \u001B[1m0.641\u001B[0m\n",
      "Accuracy for class documentary : \u001B[1m0.765\u001B[0m\n",
      "Accuracy for class drama : \u001B[1m0.545\u001B[0m\n",
      "Accuracy for class horror : \u001B[1m0.684\u001B[0m\n",
      "Accuracy for class thriller : \u001B[1m0.5\u001B[0m\n",
      "\n",
      "\n",
      "              precision    recall  f1-score   support\n",
      "\n",
      "           0       0.42      0.58      0.49       475\n",
      "           1       0.58      0.64      0.61      2032\n",
      "           2       0.83      0.76      0.80      2961\n",
      "           3       0.71      0.54      0.62      3945\n",
      "           4       0.64      0.68      0.66      1034\n",
      "           5       0.05      0.50      0.09        76\n",
      "\n",
      "    accuracy                           0.64     10523\n",
      "   macro avg       0.54      0.62      0.54     10523\n",
      "weighted avg       0.70      0.64      0.66     10523\n",
      "\n",
      "---------------------\u001B[1mValidation Metrics\u001B[0m---------------------\n",
      "\n",
      "Mean Accuracy Score across all categories: 0.634\n",
      "\n",
      "\n",
      "Accuracy for class action : \u001B[1m0.64\u001B[0m\n",
      "Accuracy for class comedy : \u001B[1m0.63\u001B[0m\n",
      "Accuracy for class documentary : \u001B[1m0.751\u001B[0m\n",
      "Accuracy for class drama : \u001B[1m0.537\u001B[0m\n",
      "Accuracy for class horror : \u001B[1m0.685\u001B[0m\n",
      "Accuracy for class thriller : \u001B[1m0.566\u001B[0m\n",
      "\n",
      "\n",
      "              precision    recall  f1-score   support\n",
      "\n",
      "           0       0.47      0.64      0.54       478\n",
      "           1       0.57      0.63      0.60      2031\n",
      "           2       0.82      0.75      0.78      2956\n",
      "           3       0.72      0.54      0.61      4016\n",
      "           4       0.60      0.69      0.64       959\n",
      "           5       0.06      0.57      0.11        83\n",
      "\n",
      "    accuracy                           0.63     10523\n",
      "   macro avg       0.54      0.64      0.55     10523\n",
      "weighted avg       0.69      0.63      0.65     10523\n",
      "\n"
     ]
    }
   ],
   "source": [
    "eval_neural_network(model3, train_loader, \"Training Metrics\")\n",
    "eval_neural_network(model3, test_loader, \"Testing Metrics\")\n",
    "eval_neural_network(model3, val_loader, \"Validation Metrics\")"
   ]
  },
  {
   "cell_type": "markdown",
   "id": "ef8282c4-7765-4660-86c6-a3fddaa39559",
   "metadata": {
    "tags": []
   },
   "source": [
    "### 3.f Model 4"
   ]
  },
  {
   "cell_type": "markdown",
   "id": "6d3cf658-876c-42a8-9d56-094f2338747b",
   "metadata": {},
   "source": [
    "6. Repeat (d) using 128 neurons for both the hidden layers.  "
   ]
  },
  {
   "cell_type": "code",
   "execution_count": 19,
   "id": "f03573ce-758c-44f0-aab4-5954b4794f82",
   "metadata": {},
   "outputs": [
    {
     "name": "stdout",
     "output_type": "stream",
     "text": [
      "ModuleList(\n",
      "  (0): Linear(in_features=300, out_features=128, bias=True)\n",
      "  (1): Linear(in_features=128, out_features=128, bias=True)\n",
      "  (2): Linear(in_features=128, out_features=6, bias=True)\n",
      ")\n",
      "Epoch 1: Train Loss 1.5600, Val Loss 1.3619\n",
      "Found a new model with the lowest validation loss\n",
      "Epoch 2: Train Loss 1.2899, Val Loss 1.2331\n",
      "Found a new model with the lowest validation loss\n",
      "Epoch 3: Train Loss 1.1655, Val Loss 1.2098\n",
      "Found a new model with the lowest validation loss\n",
      "Epoch 4: Train Loss 1.1120, Val Loss 1.1136\n",
      "Found a new model with the lowest validation loss\n",
      "Epoch 5: Train Loss 1.0696, Val Loss 1.1323\n",
      "Epoch 6: Train Loss 1.0262, Val Loss 1.0412\n",
      "Found a new model with the lowest validation loss\n",
      "Epoch 7: Train Loss 1.0147, Val Loss 1.0093\n",
      "Found a new model with the lowest validation loss\n",
      "Epoch 8: Train Loss 1.0023, Val Loss 1.0402\n",
      "Epoch 9: Train Loss 0.9867, Val Loss 1.0756\n",
      "Epoch 10: Train Loss 0.9769, Val Loss 1.0746\n",
      "Epoch 11: Train Loss 0.9669, Val Loss 1.0268\n",
      "Epoch 12: Train Loss 0.9698, Val Loss 0.9984\n",
      "Found a new model with the lowest validation loss\n",
      "Epoch 13: Train Loss 0.9458, Val Loss 0.9997\n",
      "Epoch 14: Train Loss 0.9400, Val Loss 1.0277\n",
      "Epoch 15: Train Loss 0.9457, Val Loss 0.9666\n",
      "Found a new model with the lowest validation loss\n",
      "Epoch 16: Train Loss 0.9251, Val Loss 0.9805\n",
      "Epoch 17: Train Loss 0.9243, Val Loss 1.0040\n",
      "Epoch 18: Train Loss 0.9324, Val Loss 0.9914\n",
      "Epoch 19: Train Loss 0.9218, Val Loss 1.0032\n",
      "Epoch 20: Train Loss 0.9122, Val Loss 1.0215\n"
     ]
    },
    {
     "data": {
      "image/png": "[encoded data removed]",
      "text/plain": [
       "<Figure size 432x288 with 1 Axes>"
      ]
     },
     "metadata": {
      "needs_background": "light"
     },
     "output_type": "display_data"
    }
   ],
   "source": [
    "model4 = implement_neural_network(no_layers= 2, nodes_in_layer=[128,128], activation_function=activation,\n",
    "                                  learning_rate=0.001,no_epoch=20, train_loader=train_loader, val_loader=val_loader)"
   ]
  },
  {
   "cell_type": "code",
   "execution_count": 20,
   "id": "40901485-5ae8-4cc3-a94b-f37fd665a8f1",
   "metadata": {},
   "outputs": [
    {
     "name": "stdout",
     "output_type": "stream",
     "text": [
      "---------------------\u001B[1mTraining Metrics\u001B[0m---------------------\n",
      "\n",
      "Mean Accuracy Score across all categories: 0.66\n",
      "\n",
      "\n",
      "Accuracy for class action : \u001B[1m0.604\u001B[0m\n",
      "Accuracy for class comedy : \u001B[1m0.679\u001B[0m\n",
      "Accuracy for class documentary : \u001B[1m0.783\u001B[0m\n",
      "Accuracy for class drama : \u001B[1m0.565\u001B[0m\n",
      "Accuracy for class horror : \u001B[1m0.756\u001B[0m\n",
      "Accuracy for class thriller : \u001B[1m0.4\u001B[0m\n",
      "\n",
      "\n",
      "              precision    recall  f1-score   support\n",
      "\n",
      "           0       0.50      0.60      0.55      1084\n",
      "           1       0.58      0.68      0.62      3317\n",
      "           2       0.86      0.78      0.82      5364\n",
      "           3       0.72      0.56      0.63      7031\n",
      "           4       0.64      0.76      0.69      1771\n",
      "           5       0.17      0.40      0.24       657\n",
      "\n",
      "    accuracy                           0.66     19224\n",
      "   macro avg       0.58      0.63      0.59     19224\n",
      "weighted avg       0.70      0.66      0.67     19224\n",
      "\n",
      "---------------------\u001B[1mTesting Metrics\u001B[0m---------------------\n",
      "\n",
      "Mean Accuracy Score across all categories: 0.643\n",
      "\n",
      "\n",
      "Accuracy for class action : \u001B[1m0.503\u001B[0m\n",
      "Accuracy for class comedy : \u001B[1m0.676\u001B[0m\n",
      "Accuracy for class documentary : \u001B[1m0.765\u001B[0m\n",
      "Accuracy for class drama : \u001B[1m0.565\u001B[0m\n",
      "Accuracy for class horror : \u001B[1m0.688\u001B[0m\n",
      "Accuracy for class thriller : \u001B[1m0.366\u001B[0m\n",
      "\n",
      "\n",
      "              precision    recall  f1-score   support\n",
      "\n",
      "           0       0.51      0.50      0.51       672\n",
      "           1       0.54      0.68      0.60      1784\n",
      "           2       0.84      0.76      0.80      2978\n",
      "           3       0.70      0.56      0.63      3755\n",
      "           4       0.66      0.69      0.67      1058\n",
      "           5       0.13      0.37      0.19       276\n",
      "\n",
      "    accuracy                           0.64     10523\n",
      "   macro avg       0.56      0.59      0.57     10523\n",
      "weighted avg       0.68      0.64      0.66     10523\n",
      "\n",
      "---------------------\u001B[1mValidation Metrics\u001B[0m---------------------\n",
      "\n",
      "Mean Accuracy Score across all categories: 0.633\n",
      "\n",
      "\n",
      "Accuracy for class action : \u001B[1m0.524\u001B[0m\n",
      "Accuracy for class comedy : \u001B[1m0.663\u001B[0m\n",
      "Accuracy for class documentary : \u001B[1m0.751\u001B[0m\n",
      "Accuracy for class drama : \u001B[1m0.555\u001B[0m\n",
      "Accuracy for class horror : \u001B[1m0.665\u001B[0m\n",
      "Accuracy for class thriller : \u001B[1m0.361\u001B[0m\n",
      "\n",
      "\n",
      "              precision    recall  f1-score   support\n",
      "\n",
      "           0       0.54      0.52      0.53       672\n",
      "           1       0.52      0.66      0.59      1771\n",
      "           2       0.83      0.75      0.79      2998\n",
      "           3       0.70      0.56      0.62      3803\n",
      "           4       0.62      0.67      0.64      1024\n",
      "           5       0.12      0.36      0.18       255\n",
      "\n",
      "    accuracy                           0.63     10523\n",
      "   macro avg       0.55      0.59      0.56     10523\n",
      "weighted avg       0.67      0.63      0.65     10523\n",
      "\n"
     ]
    }
   ],
   "source": [
    "eval_neural_network(model4, train_loader, \"Training Metrics\")\n",
    "eval_neural_network(model4, test_loader, \"Testing Metrics\")\n",
    "eval_neural_network(model4, val_loader, \"Validation Metrics\")"
   ]
  },
  {
   "cell_type": "markdown",
   "id": "c376b821-fc7c-4695-82e9-ad4762c43fce",
   "metadata": {
    "tags": []
   },
   "source": [
    "### 3.g Model Comparison"
   ]
  },
  {
   "cell_type": "markdown",
   "id": "02e9cef2-0b5f-4ac5-854f-fefcaeb7bcd5",
   "metadata": {},
   "source": [
    "7. Compare the results and explain the effects of the number of hidden layers and number of neurons."
   ]
  },
  {
   "cell_type": "code",
   "execution_count": 21,
   "id": "f2ad99e0-cbfd-4b14-b93d-632e2bf51e54",
   "metadata": {},
   "outputs": [],
   "source": [
    "value_map = {\"model 1\": \"One hidden layer with 64 neurons\",\n",
    "            \"model 2\" : \"Two hidden layers with 64 neurons\",\n",
    "            \"model 3\" : \"One hidden layer with 128 neurons\",\n",
    "            \"model 4\" : \"Two hidden layer with 128 neurons\"}\n",
    "\n",
    "model1_acc, model1_acc_class = eval_neural_network(model1, test_loader, \"Testing Metrics\", True)\n",
    "model2_acc, model2_acc_class = eval_neural_network(model2, test_loader, \"Testing Metrics\", True)\n",
    "model3_acc, model3_acc_class = eval_neural_network(model3, test_loader, \"Testing Metrics\", True)\n",
    "model4_acc, model4_acc_class = eval_neural_network(model4, test_loader, \"Testing Metrics\", True)"
   ]
  },
  {
   "cell_type": "code",
   "execution_count": 22,
   "id": "85c8c0d2-ca03-407b-b6c4-d0f64d79c2ee",
   "metadata": {},
   "outputs": [
    {
     "data": {
      "image/png": "[encoded data removed]",
      "text/plain": [
       "<Figure size 432x288 with 1 Axes>"
      ]
     },
     "metadata": {
      "needs_background": "light"
     },
     "output_type": "display_data"
    }
   ],
   "source": [
    "plt.bar(\"Model 1\" ,model1_acc, label = value_map['model 1'])\n",
    "plt.text(\"Model 1\", model1_acc , str(model1_acc))\n",
    "\n",
    "plt.bar('Model 2', model2_acc, label = value_map['model 2'])\n",
    "plt.text(\"Model 2\", model2_acc , str(model2_acc))\n",
    "\n",
    "plt.bar('Model 3', model3_acc, label = value_map['model 3'])\n",
    "plt.text(\"Model 3\", model3_acc , str(model3_acc))\n",
    "\n",
    "plt.bar('Model 4', model4_acc, label = value_map['model 4'])\n",
    "plt.text(\"Model 4\", model4_acc , str(model4_acc))\n",
    "\n",
    "plt.title(\"Mean accuracy across the different model\")\n",
    "plt.legend(loc=\"center left\",bbox_to_anchor =(1,0.5))\n",
    "plt.show()"
   ]
  },
  {
   "cell_type": "markdown",
   "id": "c7f3282a-a130-43fe-92c8-4c3835b8c5f9",
   "metadata": {
    "tags": []
   },
   "source": [
    "**The mean accuracy is similar across all the models. However model 1 and model 4 has the highest accuracy**"
   ]
  },
  {
   "cell_type": "code",
   "execution_count": 23,
   "id": "41b5340e-fa98-40b8-9858-00adb7e0dbea",
   "metadata": {},
   "outputs": [
    {
     "data": {
      "image/png": "[encoded data removed]",
      "text/plain": [
       "<Figure size 432x288 with 1 Axes>"
      ]
     },
     "metadata": {
      "needs_background": "light"
     },
     "output_type": "display_data"
    },
    {
     "data": {
      "image/png": "[encoded data removed]",
      "text/plain": [
       "<Figure size 432x288 with 1 Axes>"
      ]
     },
     "metadata": {
      "needs_background": "light"
     },
     "output_type": "display_data"
    }
   ],
   "source": [
    "x = label_encoder.classes_\n",
    "\n",
    "plt.bar(x,model1_acc_class, label = value_map['model 1'])\n",
    "plt.bar(x,model2_acc_class, label = value_map['model 2'])\n",
    "plt.bar(x,model3_acc_class, label = value_map['model 3'])\n",
    "plt.bar(x,model4_acc_class, label = value_map['model 4'])\n",
    "plt.title(\"Mean accuracy across the different model on a class level in bar\")\n",
    "plt.legend(loc=\"center left\",bbox_to_anchor =(1,0.5))\n",
    "plt.show()\n",
    "\n",
    "plt.plot(x,model1_acc_class, label = value_map['model 1'])\n",
    "plt.plot(x,model2_acc_class, label = value_map['model 2'])\n",
    "plt.plot(x,model3_acc_class, label = value_map['model 3'])\n",
    "plt.plot(x,model4_acc_class, label = value_map['model 4'])\n",
    "plt.title(\"Mean accuracy across the different model on a class level in line\")\n",
    "plt.legend(loc=\"center left\",bbox_to_anchor =(1,0.5))\n",
    "plt.show()"
   ]
  },
  {
   "cell_type": "markdown",
   "id": "5a811ad3-c78c-49bc-97f2-fdb15e2fa5ee",
   "metadata": {},
   "source": [
    "**All the models performs reasonably close across the different categories with some deviation as seen in line plot and bar plot**"
   ]
  },
  {
   "cell_type": "markdown",
   "id": "810d39fd-8975-44f4-94c2-ef5ea6539e7d",
   "metadata": {},
   "source": [
    "# 4. Image Recognition using Convolutional Neural Nets (CNNs)"
   ]
  },
  {
   "cell_type": "markdown",
   "id": "f7185cb5-e84e-4fa1-8968-d89e4ea1f0b8",
   "metadata": {},
   "source": [
    "Image Recognition using Convolutional Neural Nets (CNNs). In this exercise, you will implement a CNN using PyTorch to classify CIFAR10 images from 10 classes."
   ]
  },
  {
   "cell_type": "markdown",
   "id": "5ee38b88-fe23-4c39-b8c6-54c8d253a2d0",
   "metadata": {},
   "source": [
    "1) DownloadCIFAR10datasetfromhttps://www.cs.toronto.edu/ ̃kriz/cifar. html. There are 5 files for training sets and 1 file for test set. Use the first four training files for training, the 5-th training file for validation, and the test file for testing. The task is to classify a given image into one of 10 classes. Read the webpage/dataset and report the data statistics (number of instances in each class) for train, validation and test sets. The data for each image has three channels (R,G,B) and each pixel value is between 0 and 255. Normalize the images so that the maximum and minimum pixel values are between -1 and +1."
   ]
  },
  {
   "cell_type": "markdown",
   "id": "6bcce896-c7fb-4fd0-84eb-f86bd4151eeb",
   "metadata": {
    "tags": []
   },
   "source": [
    "## 4.1 Data Prep"
   ]
  },
  {
   "cell_type": "code",
   "execution_count": 24,
   "id": "ddc7e08d-86ce-4ddb-ba0d-ba7a81e0c8a3",
   "metadata": {},
   "outputs": [],
   "source": [
    "def unpickle(file):\n",
    "    import pickle\n",
    "    with open(file, 'rb') as fo:\n",
    "        dict = pickle.load(fo, encoding='bytes')\n",
    "    return dict"
   ]
  },
  {
   "cell_type": "code",
   "execution_count": 25,
   "id": "e417ad46-4f33-41a7-bdcd-da90da20241c",
   "metadata": {},
   "outputs": [],
   "source": [
    "train_1 = unpickle('cifar/data_batch_1')\n",
    "train_2 = unpickle('cifar/data_batch_2')\n",
    "train_3 = unpickle('cifar/data_batch_3')\n",
    "train_4 = unpickle('cifar/data_batch_4')\n",
    "validation_dict = unpickle('cifar/data_batch_5')\n",
    "test_dict = unpickle('cifar/test_batch')"
   ]
  },
  {
   "cell_type": "code",
   "execution_count": 26,
   "id": "b9a23774-9038-401a-a9b7-56ff6c2f531d",
   "metadata": {},
   "outputs": [],
   "source": [
    "train_dict = {}\n",
    "train_dict[b'data'] = np.concatenate((train_1[b'data'], train_2[b'data'], \n",
    "                                      train_3[b'data'], train_4[b'data']), axis=0).reshape(-1,3,32,32)\n",
    "train_dict[b'labels'] = ([*train_1[b'labels'], *train_2[b'labels'], \n",
    "    *train_3[b'labels'], *train_4[b'labels']])\n",
    "train_dict[b'filenames'] = ([*train_1[b'filenames'], *train_2[b'filenames'], \n",
    "    *train_3[b'filenames'], *train_4[b'filenames']])"
   ]
  },
  {
   "cell_type": "code",
   "execution_count": 27,
   "id": "ff333a8f-a424-496f-b7b9-d850cd97e8f0",
   "metadata": {},
   "outputs": [],
   "source": [
    "import torchvision.transforms as transforms\n",
    "\n",
    "def create_normalized_tensors(images):\n",
    "    transform_normalize = transforms.Compose([\n",
    "        transforms.ToPILImage(),\n",
    "        transforms.ToTensor(),\n",
    "        transforms.Normalize(mean=[0.5, 0.5, 0.5], std=[0.5, 0.5, 0.5])\n",
    "    ])\n",
    "    \n",
    "    transformed_images = []\n",
    "    for image in images:\n",
    "        transformed_images.append(transform_normalize(image.reshape(32,32,3)).reshape(-1,3,32,32))\n",
    "        \n",
    "    result = torch.cat(transformed_images, dim=0) \n",
    "    return result\n",
    "    "
   ]
  },
  {
   "cell_type": "code",
   "execution_count": 28,
   "id": "92da01aa-b98a-4fc0-9ce7-0ea2e18c7297",
   "metadata": {},
   "outputs": [],
   "source": [
    "train_dict[b'data'] = create_normalized_tensors(train_dict[b'data'])\n",
    "test_dict[b'data'] = create_normalized_tensors(test_dict[b'data'])\n",
    "validation_dict[b'data'] = create_normalized_tensors(validation_dict[b'data'])"
   ]
  },
  {
   "cell_type": "markdown",
   "id": "0ba77268-b458-437d-a6c0-c10031c034fc",
   "metadata": {},
   "source": [
    "## CNN Implementation"
   ]
  },
  {
   "cell_type": "markdown",
   "id": "6dfa6a55-b2a4-4253-a0c7-16ed95c49d60",
   "metadata": {},
   "source": [
    "2. Implement a CNN as follows: the first convolutional layer, gets a 3x32x32 image and applies 6 filters/kernels of size 5x5, followed by applying ReLu activation and then max-pooling with a window of size 2x2. The second convolution layer receives the input from the first layer and applies 16 filters/kernels of size 5x5, followed by applying ReLu activation and then max-pooling with a window of size 2x2. The results are then given to a feedforward NN, with three layers with 120 (with ReLu), 84 (with ReLu), 10 (you can use either softmax or no activation function) neurons. The loss function must be the cross-entropy loss. Use SGD optimizer, learning rate of 0.01 and momentum of 0.9. You need to choose the batch size, and the number of epochs."
   ]
  },
  {
   "cell_type": "code",
   "execution_count": 29,
   "id": "2db7a54d-f342-409d-95af-75a8831b069b",
   "metadata": {},
   "outputs": [],
   "source": [
    "train_images = train_dict[b'data']\n",
    "train_target = torch.tensor(train_dict[b'labels'])\n",
    "\n",
    "test_images = test_dict[b'data']\n",
    "test_target = torch.tensor(test_dict[b'labels'])\n",
    "\n",
    "validation_images = validation_dict[b'data']\n",
    "validation_target = torch.tensor(validation_dict[b'labels'])"
   ]
  },
  {
   "cell_type": "code",
   "execution_count": 30,
   "id": "544b966a-1d56-4299-8186-b4b9becdda7c",
   "metadata": {},
   "outputs": [],
   "source": [
    "train_dataset = TensorDataset(train_images, train_target)\n",
    "val_dataset = TensorDataset(test_images, test_target)\n",
    "test_dataset = TensorDataset(validation_images, validation_target)\n",
    "\n",
    "train_loader = DataLoader(train_dataset, batch_size=128, shuffle=True)\n",
    "val_loader = DataLoader(val_dataset, batch_size=128)\n",
    "test_loader = DataLoader(test_dataset, batch_size=128)"
   ]
  },
  {
   "cell_type": "code",
   "execution_count": 31,
   "id": "31a6754e-df76-4060-bdfd-ccd3e611258c",
   "metadata": {},
   "outputs": [],
   "source": [
    "class CNN(nn.Module):\n",
    "    def __init__(self):\n",
    "        super(CNN, self).__init__()\n",
    "        self.conv1 = nn.Conv2d(3, 6, kernel_size=5)\n",
    "        self.conv2 = nn.Conv2d(6, 16, kernel_size=5)\n",
    "        self.fc1 = nn.Linear(16*5*5, 120)\n",
    "        self.fc2 = nn.Linear(120, 84)\n",
    "        self.fc3 = nn.Linear(84, 10)\n",
    "        self.pool_layer = nn.MaxPool2d(kernel_size=2)\n",
    "        self.activation = nn.ReLU()\n",
    "        \n",
    "    def forward(self, x):\n",
    "        x = self.activation(self.conv1(x))\n",
    "        x = self.pool_layer(x)\n",
    "        x = self.activation(self.conv2(x))\n",
    "        x = self.pool_layer(x)\n",
    "        x = x.view(-1, 16*5*5)\n",
    "        x = self.activation(self.fc1(x))\n",
    "        x = self.activation(self.fc2(x))\n",
    "        x = self.fc3(x)\n",
    "        return x"
   ]
  },
  {
   "cell_type": "code",
   "execution_count": 32,
   "id": "8231f1e8-1aec-4fbb-87fa-29b109304f73",
   "metadata": {},
   "outputs": [],
   "source": [
    "# Define the loss function and optimizer\n",
    "model = CNN()\n",
    "criterion = nn.CrossEntropyLoss()\n",
    "optimizer = torch.optim.SGD(model.parameters(), lr=0.01, momentum=0.9)"
   ]
  },
  {
   "cell_type": "code",
   "execution_count": 33,
   "id": "80b54d56-7a75-4d70-9ccc-dff24afcc0a1",
   "metadata": {},
   "outputs": [
    {
     "name": "stdout",
     "output_type": "stream",
     "text": [
      "CNN(\n",
      "  (conv1): Conv2d(3, 6, kernel_size=(5, 5), stride=(1, 1))\n",
      "  (conv2): Conv2d(6, 16, kernel_size=(5, 5), stride=(1, 1))\n",
      "  (fc1): Linear(in_features=400, out_features=120, bias=True)\n",
      "  (fc2): Linear(in_features=120, out_features=84, bias=True)\n",
      "  (fc3): Linear(in_features=84, out_features=10, bias=True)\n",
      "  (pool_layer): MaxPool2d(kernel_size=2, stride=2, padding=0, dilation=1, ceil_mode=False)\n",
      "  (activation): ReLU()\n",
      ")\n",
      "Epoch 1: Train Loss 2.1405, Val Loss 1.8818\n",
      "Found a new model with the lowest validation loss\n",
      "Epoch 2: Train Loss 1.7423, Val Loss 1.6528\n",
      "Found a new model with the lowest validation loss\n",
      "Epoch 3: Train Loss 1.5772, Val Loss 1.5048\n",
      "Found a new model with the lowest validation loss\n",
      "Epoch 4: Train Loss 1.4700, Val Loss 1.4422\n",
      "Found a new model with the lowest validation loss\n",
      "Epoch 5: Train Loss 1.4046, Val Loss 1.4704\n",
      "Epoch 6: Train Loss 1.3497, Val Loss 1.3705\n",
      "Found a new model with the lowest validation loss\n",
      "Epoch 7: Train Loss 1.2843, Val Loss 1.3000\n",
      "Found a new model with the lowest validation loss\n",
      "Epoch 8: Train Loss 1.2444, Val Loss 1.2999\n",
      "Found a new model with the lowest validation loss\n",
      "Epoch 9: Train Loss 1.2079, Val Loss 1.2657\n",
      "Found a new model with the lowest validation loss\n",
      "Epoch 10: Train Loss 1.1706, Val Loss 1.2880\n",
      "Epoch 11: Train Loss 1.1367, Val Loss 1.2932\n",
      "Epoch 12: Train Loss 1.1075, Val Loss 1.2625\n",
      "Found a new model with the lowest validation loss\n",
      "Epoch 13: Train Loss 1.0764, Val Loss 1.2125\n",
      "Found a new model with the lowest validation loss\n",
      "Epoch 14: Train Loss 1.0455, Val Loss 1.2512\n",
      "Epoch 15: Train Loss 1.0231, Val Loss 1.2064\n",
      "Found a new model with the lowest validation loss\n",
      "Epoch 16: Train Loss 0.9977, Val Loss 1.2627\n",
      "Epoch 17: Train Loss 0.9680, Val Loss 1.2378\n",
      "Epoch 18: Train Loss 0.9464, Val Loss 1.2833\n",
      "Epoch 19: Train Loss 0.9246, Val Loss 1.2655\n",
      "Epoch 20: Train Loss 0.8969, Val Loss 1.3022\n"
     ]
    },
    {
     "data": {
      "image/png": "[encoded data removed]",
      "text/plain": [
       "<Figure size 432x288 with 1 Axes>"
      ]
     },
     "metadata": {
      "needs_background": "light"
     },
     "output_type": "display_data"
    }
   ],
   "source": [
    "criterion = nn.CrossEntropyLoss()\n",
    "model = CNN()\n",
    "optimizer = torch.optim.SGD(model.parameters(), lr=0.01, momentum=0.9)\n",
    "\n",
    "print(model)\n",
    "\n",
    "no_epoch = 20\n",
    "train_losses = []\n",
    "val_losses = []\n",
    "best_val_loss = 99999999.0\n",
    "best_model = None\n",
    "\n",
    "for epoch in range(no_epoch):\n",
    "    running_train_loss = 0.0\n",
    "    running_val_loss = 0.0\n",
    "    model.train()\n",
    "    for i, (data, labels) in enumerate(train_loader):\n",
    "        optimizer.zero_grad()\n",
    "        outputs = model(data)\n",
    "        loss = criterion(outputs, labels)\n",
    "        loss.backward()\n",
    "        optimizer.step()\n",
    "        running_train_loss += loss.item()\n",
    "\n",
    "    train_losses.append(running_train_loss / len(train_loader))\n",
    "    model.eval()\n",
    "    with torch.no_grad():\n",
    "        for i, (data, labels) in enumerate(val_loader):\n",
    "            outputs = model(data)\n",
    "            loss = criterion(outputs, labels)\n",
    "            running_val_loss += loss.item()\n",
    "        val_losses.append(running_val_loss / len(val_loader))\n",
    "    print(f\"Epoch {epoch+1}: Train Loss {train_losses[-1]:.4f}, Val Loss {val_losses[-1]:.4f}\")\n",
    "\n",
    "    if val_losses[-1] < best_val_loss:\n",
    "        best_val_loss = val_losses[-1]\n",
    "        print(\"Found a new model with the lowest validation loss\")\n",
    "        best_model = copy.deepcopy(model)\n",
    "\n",
    "plt.plot(train_losses, label=\"Train Loss\")\n",
    "plt.plot(val_losses, label=\"Val Loss\")\n",
    "plt.xlabel(\"Epoch\")\n",
    "plt.ylabel(\"Loss\")\n",
    "plt.legend()\n",
    "plt.show()\n"
   ]
  },
  {
   "cell_type": "code",
   "execution_count": 34,
   "id": "83dc9b03-db81-44a5-9e7f-0097b261b785",
   "metadata": {},
   "outputs": [
    {
     "name": "stdout",
     "output_type": "stream",
     "text": [
      "---------------------\u001B[1mTest\u001B[0m---------------------\n",
      "\n",
      "Mean Accuracy Score across all categories: 0.575\n",
      "\n",
      "\n",
      "Accuracy for class 0 : \u001B[1m0.625\u001B[0m\n",
      "Accuracy for class 1 : \u001B[1m0.709\u001B[0m\n",
      "Accuracy for class 2 : \u001B[1m0.447\u001B[0m\n",
      "Accuracy for class 3 : \u001B[1m0.449\u001B[0m\n",
      "Accuracy for class 4 : \u001B[1m0.524\u001B[0m\n",
      "Accuracy for class 5 : \u001B[1m0.466\u001B[0m\n",
      "Accuracy for class 6 : \u001B[1m0.573\u001B[0m\n",
      "Accuracy for class 7 : \u001B[1m0.687\u001B[0m\n",
      "Accuracy for class 8 : \u001B[1m0.689\u001B[0m\n",
      "Accuracy for class 9 : \u001B[1m0.584\u001B[0m\n",
      "\n",
      "\n",
      "              precision    recall  f1-score   support\n",
      "\n",
      "           0       0.63      0.62      0.63      1023\n",
      "           1       0.61      0.71      0.66       877\n",
      "           2       0.45      0.45      0.45       961\n",
      "           3       0.35      0.45      0.39       795\n",
      "           4       0.51      0.52      0.52       968\n",
      "           5       0.50      0.47      0.48      1108\n",
      "           6       0.68      0.57      0.62      1165\n",
      "           7       0.61      0.69      0.65       872\n",
      "           8       0.72      0.69      0.71      1052\n",
      "           9       0.67      0.58      0.63      1179\n",
      "\n",
      "    accuracy                           0.58     10000\n",
      "   macro avg       0.57      0.58      0.57     10000\n",
      "weighted avg       0.58      0.58      0.58     10000\n",
      "\n"
     ]
    }
   ],
   "source": [
    "def eval_cnn(model, test_loader, name, return_arg = False):\n",
    "    model.eval()\n",
    "    with torch.no_grad():\n",
    "        # for data, labels in test_loader\n",
    "        outputs = model(test_loader.dataset.tensors[0])\n",
    "        labels = test_loader.dataset.tensors[1]\n",
    "        _, predicted = torch.max(outputs.data, 1)\n",
    "\n",
    "        cm = metrics.confusion_matrix(predicted,labels)\n",
    "        accuracies_in_class = (cm.astype('float') / cm.sum(axis=1)[:, np.newaxis]).diagonal()\n",
    "        if return_arg:\n",
    "            return np.round(metrics.accuracy_score(predicted,labels),3), accuracies_in_class\n",
    "        else:\n",
    "            print(\"---------------------\"+ color.BOLD + name + color.END+\"---------------------\")\n",
    "            print(\"\\nMean Accuracy Score across all categories:\", np.round(metrics.accuracy_score(predicted,labels),3))\n",
    "            print(\"\\n\")\n",
    "            for i in range(len(accuracies_in_class)):\n",
    "                print(\"Accuracy for class \"+ str(i) + \" : \"+ color.BOLD + str(np.round(accuracies_in_class[i],3)) + color.END)\n",
    "            print(\"\\n\")\n",
    "            print(metrics.classification_report(predicted, labels)) \n",
    "\n",
    "eval_cnn(best_model, test_loader, \"Test\")"
   ]
  },
  {
   "cell_type": "code",
   "execution_count": null,
   "id": "d1bad5d8-d77c-46f9-bc70-3d6031affcf0",
   "metadata": {},
   "outputs": [],
   "source": []
  }
 ],
 "metadata": {
  "kernelspec": {
   "display_name": "Python 3 (ipykernel)",
   "language": "python",
   "name": "python3"
  },
  "language_info": {
   "codemirror_mode": {
    "name": "ipython",
    "version": 3
   },
   "file_extension": ".py",
   "mimetype": "text/x-python",
   "name": "python",
   "nbconvert_exporter": "python",
   "pygments_lexer": "ipython3",
   "version": "3.9.12"
  }
 },
 "nbformat": 4,
 "nbformat_minor": 5
}
